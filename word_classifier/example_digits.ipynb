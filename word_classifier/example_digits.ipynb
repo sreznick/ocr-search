{
 "cells": [
  {
   "cell_type": "markdown",
   "metadata": {},
   "source": [
    "# Распознавание чисел с помощью CRNN"
   ]
  },
  {
   "cell_type": "code",
   "execution_count": 1,
   "metadata": {},
   "outputs": [],
   "source": [
    "import random\n",
    "from functools import partial\n",
    "import numpy as np\n",
    "import matplotlib.pyplot as plt\n",
    "import torch\n",
    "from torch.nn import CTCLoss\n",
    "import torch.nn.functional as F\n",
    "from torch.utils.data import DataLoader, random_split\n",
    "from torchvision import transforms as T\n",
    "import shared_paths as paths\n",
    "from word_recognition import dataset_utils, crnn"
   ]
  },
  {
   "cell_type": "markdown",
   "metadata": {},
   "source": [
    "Будем решать задачу распознавания изображений чисел, сгенерированных с помощью библиотеки [`trdg`](https://pypi.org/project/trdg/). Эти изображения имеют произвольную ширину, зависящую от длины последовательности чисел, и высоту 32 пикселя. Ниже показан пример."
   ]
  },
  {
   "cell_type": "markdown",
   "metadata": {},
   "source": [
    "![5456379](images/trdg_digit_example.jpg \"Пример изображения\")"
   ]
  },
  {
   "cell_type": "markdown",
   "metadata": {},
   "source": [
    "Загрузим датасет. Будем переводить изображения в 1-канальные и инвертировать цвета, чтобы полезная информация была закодирована как числа > 0."
   ]
  },
  {
   "cell_type": "code",
   "execution_count": 2,
   "metadata": {},
   "outputs": [],
   "source": [
    "dataset = dataset_utils.TRDGDataset(\n",
    "    root='data/trdg/digits',\n",
    "    transform=T.Compose((\n",
    "        T.Grayscale(1),\n",
    "        T.ToTensor(),\n",
    "        T.functional.invert\n",
    "    ))\n",
    ")"
   ]
  },
  {
   "cell_type": "code",
   "execution_count": 3,
   "metadata": {},
   "outputs": [
    {
     "data": {
      "text/plain": [
       "Text(0.5, 1.0, 'label = 75')"
      ]
     },
     "execution_count": 3,
     "metadata": {},
     "output_type": "execute_result"
    },
    {
     "data": {
      "image/png": "[encoded data removed]",
      "text/plain": [
       "<Figure size 432x288 with 1 Axes>"
      ]
     },
     "metadata": {
      "needs_background": "light"
     },
     "output_type": "display_data"
    }
   ],
   "source": [
    "img, seq, seq_len = random.choice(dataset)\n",
    "\n",
    "plt.imshow(img[0].numpy(), cmap='gray')\n",
    "plt.title(f'label = {seq}')"
   ]
  },
  {
   "cell_type": "markdown",
   "metadata": {},
   "source": [
    "Разделим загруженные датасет на тренировочную и валидационную выборки, создадим соответствующие `DataLoader`'ы. Также сгенерируем словарь `vocab` которые позволит переводить символы в токены и обратно. Функция `collate_fn` нужна для того, чтобы избежать проблем, возникающих из-за разных ширин изображений и длин последовательностей чисел."
   ]
  },
  {
   "cell_type": "code",
   "execution_count": 4,
   "metadata": {},
   "outputs": [],
   "source": [
    "BATCH_SIZE = 64\n",
    "\n",
    "train_dataset, val_dataset = random_split(dataset, [9000, 1000])\n",
    "vocab = dataset_utils.make_char_vocab(train_dataset)\n",
    "collate_fn = partial(dataset_utils.collate_fn, vocab=vocab)\n",
    "train_dataloader = DataLoader(\n",
    "    train_dataset,\n",
    "    batch_size=BATCH_SIZE,\n",
    "    collate_fn=collate_fn,\n",
    "    shuffle=True\n",
    ")\n",
    "val_dataloader = DataLoader(\n",
    "    val_dataset,\n",
    "    batch_size=BATCH_SIZE,\n",
    "    collate_fn=collate_fn\n",
    ")"
   ]
  },
  {
   "cell_type": "markdown",
   "metadata": {},
   "source": [
    "Для решения поставленной задачи будем использовать архитектуру CRNN, описанную в работе [An End-to-End Trainable Neural Network for Image-based Sequence\n",
    "Recognition and Its Application to Scene Text Recognition](https://arxiv.org/abs/1507.05717). В ней набор признаков изображений преобразуется в последовательность, которая обрабатывается с помощью двух BiLSTM, в результате чего на выходе получается набор вероятностных распределений для разных областей изображения."
   ]
  },
  {
   "cell_type": "markdown",
   "metadata": {},
   "source": [
    "![CRNN](images/CRNN_architecture.png \"архитектура CRNN\")"
   ]
  },
  {
   "cell_type": "code",
   "execution_count": 5,
   "metadata": {},
   "outputs": [
    {
     "data": {
      "text/plain": [
       "device(type='cuda')"
      ]
     },
     "execution_count": 5,
     "metadata": {},
     "output_type": "execute_result"
    }
   ],
   "source": [
    "DEVICE = torch.device('cuda' if torch.cuda.is_available() else 'cpu')\n",
    "DEVICE"
   ]
  },
  {
   "cell_type": "markdown",
   "metadata": {},
   "source": [
    "Архитектура повторяет описанную в статье."
   ]
  },
  {
   "cell_type": "code",
   "execution_count": 6,
   "metadata": {},
   "outputs": [
    {
     "data": {
      "text/plain": [
       "CRNN(\n",
       "  (cnn): OriginalCNN(\n",
       "    (stack): Sequential(\n",
       "      (0): Conv2d(1, 64, kernel_size=(3, 3), stride=(1, 1), padding=(1, 1))\n",
       "      (1): ReLU()\n",
       "      (2): MaxPool2d(kernel_size=(2, 2), stride=2, padding=0, dilation=1, ceil_mode=False)\n",
       "      (3): Conv2d(64, 128, kernel_size=(3, 3), stride=(1, 1), padding=(1, 1))\n",
       "      (4): ReLU()\n",
       "      (5): MaxPool2d(kernel_size=(2, 2), stride=2, padding=0, dilation=1, ceil_mode=False)\n",
       "      (6): Conv2d(128, 256, kernel_size=(3, 3), stride=(1, 1), padding=(1, 1))\n",
       "      (7): ReLU()\n",
       "      (8): Conv2d(256, 256, kernel_size=(3, 3), stride=(1, 1), padding=(1, 1))\n",
       "      (9): ReLU()\n",
       "      (10): MaxPool2d(kernel_size=(2, 1), stride=(2, 1), padding=0, dilation=1, ceil_mode=False)\n",
       "      (11): Conv2d(256, 512, kernel_size=(3, 3), stride=(1, 1), padding=(1, 1))\n",
       "      (12): BatchNorm2d(512, eps=1e-05, momentum=0.1, affine=True, track_running_stats=True)\n",
       "      (13): ReLU()\n",
       "      (14): Conv2d(512, 512, kernel_size=(3, 3), stride=(1, 1), padding=(1, 1))\n",
       "      (15): BatchNorm2d(512, eps=1e-05, momentum=0.1, affine=True, track_running_stats=True)\n",
       "      (16): ReLU()\n",
       "      (17): MaxPool2d(kernel_size=(2, 1), stride=(2, 1), padding=0, dilation=1, ceil_mode=False)\n",
       "      (18): Conv2d(512, 512, kernel_size=(2, 2), stride=(1, 1))\n",
       "      (19): ReLU()\n",
       "    )\n",
       "  )\n",
       "  (feat2seq): Features2Seq(\n",
       "    (fc): Linear(in_features=512, out_features=64, bias=True)\n",
       "  )\n",
       "  (rnn1): LSTM(64, 256, bidirectional=True)\n",
       "  (rnn2): LSTM(512, 256, bidirectional=True)\n",
       "  (fc): Linear(in_features=512, out_features=11, bias=True)\n",
       ")"
      ]
     },
     "execution_count": 6,
     "metadata": {},
     "output_type": "execute_result"
    }
   ],
   "source": [
    "model = crnn.CRNN(output_dim=len(vocab)).to(DEVICE)\n",
    "model\n"
   ]
  },
  {
   "cell_type": "markdown",
   "metadata": {},
   "source": [
    "Функции для тренировки и тестирования."
   ]
  },
  {
   "cell_type": "code",
   "execution_count": 7,
   "metadata": {},
   "outputs": [],
   "source": [
    "GRAD_CLIP = 1.0\n",
    "\n",
    "def train_epoch(model, dataloader, optimizer, loss_fn, device=DEVICE):\n",
    "    model.train()\n",
    "    total_loss = 0.0\n",
    "    num_samples = 0\n",
    "    for X, y, len_y in dataloader:\n",
    "        # check batch size\n",
    "        batch_size = len(X)\n",
    "        num_samples += batch_size\n",
    "\n",
    "        # forward pass\n",
    "        X, y, len_y = X.to(device), y.to(device), len_y.to(device)\n",
    "        logits = model(X)\n",
    "        log_probs = F.log_softmax(logits, dim=-1)\n",
    "\n",
    "        # backpropagation\n",
    "        len_X = torch.LongTensor([log_probs.size(0)] * batch_size)\n",
    "        loss = loss_fn(log_probs, y, len_X, len_y)\n",
    "        optimizer.zero_grad()\n",
    "        loss.backward()\n",
    "        if GRAD_CLIP:\n",
    "            torch.nn.utils.clip_grad_norm_(model.parameters(), GRAD_CLIP)\n",
    "        optimizer.step()\n",
    "\n",
    "        # use weighted sum for calculating avg loss per sample\n",
    "        total_loss += loss.item() * batch_size\n",
    "\n",
    "    return total_loss / num_samples\n",
    "\n",
    "\n",
    "@torch.no_grad()\n",
    "def validate_epoch(model, dataloader, loss_fn, device=DEVICE):\n",
    "    model.eval()\n",
    "    total_loss = 0.0\n",
    "    num_samples = 0\n",
    "\n",
    "    for X, y, len_y in dataloader:\n",
    "        # check batch size\n",
    "        batch_size = len(X)\n",
    "        num_samples += batch_size\n",
    "\n",
    "        # forward pass a\n",
    "        X, y, len_y = X.to(device), y.to(device), len_y.to(device)\n",
    "        logits = model(X)\n",
    "        probs = F.log_softmax(logits, dim=-1)\n",
    "\n",
    "        # calculate loss\n",
    "        len_X = torch.LongTensor([probs.size(0)] * batch_size)\n",
    "        loss = loss_fn(probs, y, len_X, len_y)\n",
    "        total_loss += loss.item() * batch_size\n",
    "\n",
    "    return total_loss / num_samples"
   ]
  },
  {
   "cell_type": "markdown",
   "metadata": {},
   "source": [
    "Обучим модель. В данном случае изображения довольно чёткие, а набор символов невелик, в результате чего модель обучается достаточно быстро."
   ]
  },
  {
   "cell_type": "code",
   "execution_count": 8,
   "metadata": {},
   "outputs": [
    {
     "name": "stdout",
     "output_type": "stream",
     "text": [
      "Epoch 9: train_loss: 1.66e-02, val_loss: 3.20e-02\n"
     ]
    },
    {
     "data": {
      "image/png": "[encoded data removed]",
      "text/plain": [
       "<Figure size 432x288 with 1 Axes>"
      ]
     },
     "metadata": {
      "needs_background": "light"
     },
     "output_type": "display_data"
    }
   ],
   "source": [
    "EPOCHS = 10\n",
    "LR = 1e-4\n",
    "\n",
    "train_loss = np.zeros(EPOCHS)\n",
    "val_loss = np.zeros_like(train_loss)\n",
    "loss_fn = CTCLoss(blank=0)\n",
    "optimizer = torch.optim.RMSprop(model.parameters(), lr=LR)\n",
    "\n",
    "for i in range(EPOCHS):\n",
    "    train_loss[i] = train_epoch(model, train_dataloader, optimizer, loss_fn)\n",
    "    val_loss[i] = validate_epoch(model, val_dataloader, loss_fn)\n",
    "    print(f'\\rEpoch {i}: train_loss: {train_loss[i]:.2e}, val_loss: {val_loss[i]:.2e}',\n",
    "          end='')\n",
    "print()\n",
    "\n",
    "plt.figure()\n",
    "x = np.arange(1, EPOCHS + 1)\n",
    "plt.plot(x, train_loss, label='train')\n",
    "plt.plot(x, val_loss, label='validate')\n",
    "plt.xlabel('Epoch')\n",
    "plt.ylabel('Loss')\n",
    "plt.legend()\n",
    "plt.show()"
   ]
  },
  {
   "cell_type": "markdown",
   "metadata": {},
   "source": [
    "Проверим, как модель распознаёт случайное изображение из валидационной выборки."
   ]
  },
  {
   "cell_type": "code",
   "execution_count": 9,
   "metadata": {},
   "outputs": [
    {
     "name": "stdout",
     "output_type": "stream",
     "text": [
      "Per frame predictions: 8<-><->5<-><->6<-><->1<->1<->9<-><-><->\n",
      "Actual: 856119\n"
     ]
    },
    {
     "data": {
      "text/plain": [
       "(-0.5, 72.5, 31.5, -0.5)"
      ]
     },
     "execution_count": 9,
     "metadata": {},
     "output_type": "execute_result"
    },
    {
     "data": {
      "image/png": "[encoded data removed]",
      "text/plain": [
       "<Figure size 432x288 with 1 Axes>"
      ]
     },
     "metadata": {
      "needs_background": "light"
     },
     "output_type": "display_data"
    }
   ],
   "source": [
    "img, y, _ = random.choice(val_dataset)\n",
    "model.eval()\n",
    "with torch.no_grad():\n",
    "    logits = model(img.unsqueeze(0).to(DEVICE)).cpu().squeeze().numpy()\n",
    "prediction_tokens = np.argmax(logits, -1)\n",
    "predictions = dataset_utils.decode(vocab, prediction_tokens)\n",
    "print(f'Per frame predictions: {predictions}')\n",
    "print(f'Actual: {y}')\n",
    "plt.imshow(img[0].numpy(), cmap='gray')\n",
    "plt.axis('off')"
   ]
  },
  {
   "cell_type": "code",
   "execution_count": null,
   "metadata": {},
   "outputs": [],
   "source": []
  }
 ],
 "metadata": {
  "interpreter": {
   "hash": "49448eeb8252ad14269e9870f41be38726e4e73e71663eea00cd1e0ba3be12df"
  },
  "kernelspec": {
   "display_name": "Python 3 (ipykernel)",
   "language": "python",
   "name": "python3"
  },
  "language_info": {
   "codemirror_mode": {
    "name": "ipython",
    "version": 3
   },
   "file_extension": ".py",
   "mimetype": "text/x-python",
   "name": "python",
   "nbconvert_exporter": "python",
   "pygments_lexer": "ipython3",
   "version": "3.10.4"
  }
 },
 "nbformat": 4,
 "nbformat_minor": 4
}
